{
 "cells": [
  {
   "cell_type": "code",
   "execution_count": 3,
   "metadata": {
    "_cell_guid": "b1076dfc-b9ad-4769-8c92-a6c4dae69d19",
    "_uuid": "8f2839f25d086af736a60e9eeb907d3b93b6e0e5"
   },
   "outputs": [
    {
     "name": "stdout",
     "output_type": "stream",
     "text": [
      "['IM-0002-0001-0001.dcm', 'IM-0002-0283.dcm', 'IM-0002-0001-0002.dcm']\n"
     ]
    }
   ],
   "source": [
    "# This Python 3 environment comes with many helpful analytics libraries installed\n",
    "# It is defined by the kaggle/python docker image: https://github.com/kaggle/docker-python\n",
    "# For example, here's several helpful packages to load in \n",
    "\n",
    "import numpy as np # linear algebra\n",
    "import pandas as pd # data processing, CSV file I/O (e.g. pd.read_csv)\n",
    "\n",
    "# Input data files are available in the \"../input/\" directory.\n",
    "# For example, running this (by clicking run or pressing Shift+Enter) will list the files in the input directory\n",
    "\n",
    "import os\n",
    "print(os.listdir(\"../../datasets/Mri_Brain_Contrast-663058577/3D_Brain_FLAIR_201\"))\n",
    "\n",
    "# Any results you write to the current directory are saved as output."
   ]
  },
  {
   "cell_type": "markdown",
   "metadata": {},
   "source": [
    "# Note\n",
    "To safe Following sections are example methods to perform DICOM to JPEG2K conversion, please always double check if the generated JPEG files are lossless.\n",
    "\n",
    "Currently you're receiving errors running following code on Kaggle Kernels that you're not having issues with locally. The kernels libraries may not match, and we are working this issue. Potential problem is mis-configured openjpeg package. Any thoughts and comments are appreciated. "
   ]
  },
  {
   "cell_type": "code",
   "execution_count": 10,
   "metadata": {},
   "outputs": [],
   "source": [
    "# Convert to JPEG2K via Pillow\n",
    "# https://github.com/python-pillow/Pillow\n",
    " \n",
    "import os\n",
    "import pydicom\n",
    "import glob\n",
    "from PIL import Image\n",
    "\n",
    "inputdir = \"../../datasets/Mri_Brain_Contrast-663058577/3D_Brain_FLAIR_201/\"\n",
    "# inputdir = \"../../datasets/dicom_images_kaggle/\"\n",
    "outdir = './results/dicom3d_to_jpg/'\n",
    "\n",
    "test_list = [os.path.basename(x) for x in glob.glob(inputdir + './*.dcm')]\n",
    "for f in test_list:  \n",
    "    ds = pydicom.read_file( inputdir + f) # read dicom image\n",
    "    img = ds.pixel_array # get image array\n",
    "    img_mem = Image.fromarray(img) # Creates an image memory from an object exporting the array interface\n",
    "    \n",
    "#   There is an exception in Kaggle kernel about \"encoder jpeg2k not available\", please test following code on your local workstation\n",
    "    img_mem.save(outdir + f.replace('.dcm','.jpeg'))"
   ]
  },
  {
   "cell_type": "code",
   "execution_count": 3,
   "metadata": {},
   "outputs": [],
   "source": [
    "# Convert to JPEG2K via imageio\n",
    "# https://github.com/imageio/imageio\n",
    "\n",
    "import os\n",
    "import pydicom\n",
    "import glob\n",
    "import imageio\n",
    "\n",
    "inputdir = '../input/sample images/'\n",
    "outdir = './'\n",
    "\n",
    "test_list = [os.path.basename(x) for x in glob.glob(inputdir + './*.dcm')]\n",
    "for f in test_list:  \n",
    "    ds = pydicom.read_file(inputdir + f) # read dicom image\n",
    "    img = ds.pixel_array # get image array\n",
    "    \n",
    "#   There is an exception in Kaggle kernel about \"encoder jpeg2k not available\", please test following code on your local workstation\n",
    "#   imageio.imwrite(outdir + f.replace('.dcm','.jp2'), img)"
   ]
  },
  {
   "cell_type": "markdown",
   "metadata": {},
   "source": [
    "# Other options"
   ]
  },
  {
   "cell_type": "markdown",
   "metadata": {},
   "source": [
    "# DCMTK \n",
    "DCMTK (https://dicom.offis.de/dcmtk.php.en) also provides DICOM conversion to JPEG 2000\n",
    "\n",
    "Install guide can be found at Quick installation section (https://dicom.offis.de/dcmtk.php.en). \n",
    "\n",
    "To perform DCMTK, please use executable binary software \"dcmj2pnm\" and run (e.g. Linux user)\n",
    "\n",
    "> dcmj2pnm /PATH_TO_SAMPLE_DICOM/sample.dcm /PATH_TO_SAVE_JPEG2K/sample.jpg\n",
    "\n",
    "The create \"*.jpg\" file should be value lossless. Please do double check.  "
   ]
  },
  {
   "cell_type": "code",
   "execution_count": 5,
   "metadata": {},
   "outputs": [],
   "source": [
    "# Convert DICOM to PNG via openCV\n",
    "import cv2\n",
    "import os\n",
    "import pydicom\n",
    "import glob\n",
    "\n",
    "inputdir = '../input/sample images/'\n",
    "outdir = './'\n",
    "#os.mkdir(outdir)\n",
    "\n",
    "test_list = [os.path.basename(x) for x in glob.glob(inputdir + './*.dcm')]\n",
    "\n",
    "for f in test_list:   \n",
    "    ds = pydicom.read_file(inputdir + f) # read dicom image\n",
    "    img = ds.pixel_array # get image array\n",
    "    cv2.imwrite(outdir + f.replace('.dcm','.png'),img) # write png image"
   ]
  },
  {
   "cell_type": "code",
   "execution_count": 6,
   "metadata": {},
   "outputs": [],
   "source": [
    "# Convert to PNG via PIL \n",
    "# https://github.com/python-pillow/Pillow\n",
    "import os\n",
    "import pydicom\n",
    "import glob\n",
    "from PIL import Image\n",
    "\n",
    "inputdir = '../input/sample images/'\n",
    "outdir = './'\n",
    "\n",
    "test_list = [os.path.basename(x) for x in glob.glob(inputdir + './*.dcm')]\n",
    "#glob.glob(inputdir + './*.dcm')\n",
    "for f in test_list:   \n",
    "    ds = pydicom.read_file( inputdir + f) # read dicom image\n",
    "    img = ds.pixel_array # get image array\n",
    "    img_mem = Image.fromarray(img) # Creates an image memory from an object exporting the array interface\n",
    "    img_mem.save(outdir + f.replace('.dcm','.png'))"
   ]
  }
 ],
 "metadata": {
  "kernelspec": {
   "display_name": "Python 3.8.13 ('image-compression-folder')",
   "language": "python",
   "name": "python3"
  },
  "language_info": {
   "codemirror_mode": {
    "name": "ipython",
    "version": 3
   },
   "file_extension": ".py",
   "mimetype": "text/x-python",
   "name": "python",
   "nbconvert_exporter": "python",
   "pygments_lexer": "ipython3",
   "version": "3.8.13"
  },
  "vscode": {
   "interpreter": {
    "hash": "0296e13826a97a2e9f62e7a96eff6da6a53479b944582cce8c714f8dee53b183"
   }
  }
 },
 "nbformat": 4,
 "nbformat_minor": 1
}
